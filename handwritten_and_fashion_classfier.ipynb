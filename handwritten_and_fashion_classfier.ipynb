{
  "nbformat": 4,
  "nbformat_minor": 0,
  "metadata": {
    "colab": {
      "provenance": []
    },
    "kernelspec": {
      "name": "python3",
      "display_name": "Python 3"
    },
    "language_info": {
      "name": "python"
    }
  },
  "cells": [
    {
      "cell_type": "code",
      "execution_count": 1,
      "metadata": {
        "id": "_-NQqZf4WW8o"
      },
      "outputs": [],
      "source": [
        "# Importing usefull libraries\n",
        "\n",
        "import torch\n",
        "import torch.nn.functional as F # For functional neural network\n",
        "import numpy as np # For numerical computations\n",
        "import matplotlib.pyplot as plt # For visualization\n",
        "\n",
        "# For loading and transforming the data\n",
        "\n",
        "from torchvision import datasets, transforms \n",
        "from torch import nn, optim"
      ]
    },
    {
      "cell_type": "code",
      "source": [
        "#  A helper function for checking the prediction using graphs\n",
        "\n",
        "def view_classify(img, ps, version=\"MNIST\"):\n",
        "    ''' Function for viewing an image and it's predicted classes.\n",
        "    '''\n",
        "    ps = ps.data.numpy().squeeze()\n",
        "\n",
        "    fig, (ax1, ax2) = plt.subplots(figsize=(6,9), ncols=2)\n",
        "    ax1.imshow(img.resize_(1, 28, 28).numpy().squeeze())\n",
        "    ax1.axis('off')\n",
        "    ax2.barh(np.arange(10), ps)\n",
        "    ax2.set_aspect(0.1)\n",
        "    ax2.set_yticks(np.arange(10))\n",
        "    if version == \"MNIST\":\n",
        "        ax2.set_yticklabels(np.arange(10))\n",
        "    elif version == \"Fashion\":\n",
        "        ax2.set_yticklabels(['T-shirt/top',\n",
        "                            'Trouser',\n",
        "                            'Pullover',\n",
        "                            'Dress',\n",
        "                            'Coat',\n",
        "                            'Sandal',\n",
        "                            'Shirt',\n",
        "                            'Sneaker',\n",
        "                            'Bag',\n",
        "                            'Ankle Boot'], size='small');\n",
        "    ax2.set_title('Class Probability')\n",
        "    ax2.set_xlim(0, 1.1)\n",
        "\n",
        "    plt.tight_layout()"
      ],
      "metadata": {
        "id": "Q0-HYGMLy5RD"
      },
      "execution_count": 2,
      "outputs": []
    },
    {
      "cell_type": "code",
      "source": [
        "# Define a transform to normalize the hand written digits data\n",
        "\n",
        "transform = transforms.Compose([transforms.ToTensor(),\n",
        "                                transforms.Normalize((0.5,),(0.5,)),\n",
        "                                ])\n",
        "\n",
        "# Download and load the training data\n",
        "\n",
        "trainset = datasets.MNIST('MNIST_data/',\n",
        "                          download=True,\n",
        "                          train=True,\n",
        "                          transform = transform\n",
        "                          )\n",
        "trainloader = torch.utils.data.DataLoader(trainset,\n",
        "                                          batch_size = 64,\n",
        "                                          shuffle=True)\n"
      ],
      "metadata": {
        "id": "qjDeVhOhfOAB"
      },
      "execution_count": 28,
      "outputs": []
    },
    {
      "cell_type": "code",
      "source": [
        "# Download and load the training data for the fashion data\n",
        "\n",
        "trainset = datasets.FashionMNIST('Fasion_data/',\n",
        "                                 download=True,\n",
        "                                 train=True,\n",
        "                                 transform = transform\n",
        "                                 )\n",
        "trainloader = torch.utils.data.DataLoader(trainset,\n",
        "                                          batch_size = 64, \n",
        "                                          shuffle=True\n",
        "                                          )\n",
        "\n",
        "# Download and load the test data for the fashion data\n",
        "\n",
        "testset= datasets.FashionMNIST('Fasion_data/',\n",
        "                               download=True,\n",
        "                               train=False,\n",
        "                               transform = transform\n",
        "                               )\n",
        "testloader= torch.utils.data.DataLoader(testset,\n",
        "                                        batch_size = 64, \n",
        "                                        shuffle=True\n",
        "                                        )"
      ],
      "metadata": {
        "id": "X5ja1FoQ2aLU"
      },
      "execution_count": 17,
      "outputs": []
    },
    {
      "cell_type": "code",
      "source": [
        "# Lets check the size and type of the data we downloaded\n",
        "\n",
        "images,labels = next(iter(trainloader))\n",
        "print(type(images))\n",
        "print(images.shape)\n",
        "print(labels.shape)\n",
        "print(labels)"
      ],
      "metadata": {
        "colab": {
          "base_uri": "https://localhost:8080/"
        },
        "id": "tdkPgY7pgNdX",
        "outputId": "dc25137c-efba-4b5f-81ed-8215ad2a7734"
      },
      "execution_count": 31,
      "outputs": [
        {
          "output_type": "stream",
          "name": "stdout",
          "text": [
            "<class 'torch.Tensor'>\n",
            "torch.Size([64, 1, 28, 28])\n",
            "torch.Size([64])\n",
            "tensor([2, 8, 7, 6, 1, 9, 7, 6, 0, 2, 8, 4, 5, 4, 7, 7, 5, 0, 5, 2, 4, 4, 0, 6,\n",
            "        9, 7, 8, 1, 6, 2, 3, 3, 3, 7, 0, 6, 4, 8, 3, 6, 1, 6, 0, 7, 5, 7, 8, 8,\n",
            "        6, 3, 1, 1, 6, 1, 5, 7, 1, 5, 7, 0, 0, 2, 1, 2])\n"
          ]
        }
      ]
    },
    {
      "cell_type": "code",
      "source": [
        "# Lets check out a single image and its label\n",
        "\n",
        "plt.imshow(images[1].numpy().squeeze(),cmap='Greys_r')\n",
        "print(f'The label is {labels[1].numpy()}')"
      ],
      "metadata": {
        "colab": {
          "base_uri": "https://localhost:8080/",
          "height": 282
        },
        "id": "4UpVowhyjK0I",
        "outputId": "5e2bebcf-67d0-4070-d76c-7c5979c95e30"
      },
      "execution_count": 32,
      "outputs": [
        {
          "output_type": "stream",
          "name": "stdout",
          "text": [
            "The label is 8\n"
          ]
        },
        {
          "output_type": "display_data",
          "data": {
            "text/plain": [
              "<Figure size 432x288 with 1 Axes>"
            ],
            "image/png": "[encoded data removed]"
          },
          "metadata": {
            "needs_background": "light"
          }
        }
      ]
    },
    {
      "cell_type": "code",
      "source": [
        "# Training a model for classifiying hand written digits \n",
        "\n",
        "# Lets train a network of 2 hidden layers with each being Relu activated\n",
        "\n",
        "hand_written_model = nn.Sequential(nn.Linear(784,128),\n",
        "                      nn.ReLU(),\n",
        "                      nn.Linear(128,64),\n",
        "                      nn.ReLU(),\n",
        "                      nn.Linear(64,10),\n",
        "                      nn.LogSoftmax(dim=1))\n",
        "\n",
        "criterion = nn.NLLLoss() # Negative Log Likelihood loss\n",
        "\n",
        "# Lets use an optimizer with a Stochastic Gradient Decent of learning rate 0.003\n",
        "\n",
        "optimizer = optim.SGD(hand_written_model.parameters(),lr=0.003) \n",
        "\n",
        "epochs = 5\n",
        "\n",
        "for epoch in range(epochs):\n",
        "\n",
        "  # Initializing the running loss for later averaging\n",
        "  running_loss = 0.0\n",
        "\n",
        "  for images,labels in trainloader:\n",
        "\n",
        "    # Lets flatten the image to fit into the network layer\n",
        "    # .view will change our [64,1,28,28] to [64,784] i.e 28*28*1=784\n",
        "    \n",
        "    images = images.view(images.shape[0],-1)\n",
        "\n",
        "    optimizer.zero_grad()\n",
        "\n",
        "    output = hand_written_model.forward(images)\n",
        "\n",
        "    loss = criterion(output,labels)\n",
        "\n",
        "    loss.backward()\n",
        "\n",
        "    running_loss += loss.item()\n",
        "\n",
        "    optimizer.step()\n",
        "\n",
        "  print(f'Training loss: {running_loss/len(trainloader)}')\n"
      ],
      "metadata": {
        "id": "SZwVKXgOXYO_",
        "colab": {
          "base_uri": "https://localhost:8080/"
        },
        "outputId": "40cb665b-b02d-43e8-8fe6-e2502d12a40b"
      },
      "execution_count": 33,
      "outputs": [
        {
          "output_type": "stream",
          "name": "stdout",
          "text": [
            "Training loss: 1.8479479027709473\n",
            "Training loss: 0.8185606790122701\n",
            "Training loss: 0.5224122261441847\n",
            "Training loss: 0.4295903445878771\n",
            "Training loss: 0.3849476414925254\n"
          ]
        }
      ]
    },
    {
      "cell_type": "code",
      "source": [
        "# Testing the hand written classifier model\n",
        "\n",
        "images,labels = next(iter(trainloader))\n",
        "\n",
        "img = images[0].view(1,-1)\n",
        "\n",
        "with torch.no_grad():\n",
        "  logits = hand_written_model.forward(img)\n",
        "\n",
        "# Changing the probabilities from our nn output into positive number and \n",
        "# finding the displaying the result using our helper function\n",
        "\n",
        "ps = torch.exp(logits)\n",
        "\n",
        "view_classify(img,ps,version='MNIST')"
      ],
      "metadata": {
        "id": "a77zrW_CYuhn",
        "colab": {
          "base_uri": "https://localhost:8080/",
          "height": 253
        },
        "outputId": "7c702b75-c5ff-45e4-8eb9-d829f7055100"
      },
      "execution_count": 40,
      "outputs": [
        {
          "output_type": "display_data",
          "data": {
            "text/plain": [
              "<Figure size 432x648 with 2 Axes>"
            ],
            "image/png": "[encoded data removed]"
          },
          "metadata": {
            "needs_background": "light"
          }
        }
      ]
    },
    {
      "cell_type": "code",
      "source": [
        "# Training a model for classifiying fasion-MNIST data set\n",
        "\n",
        "''' \n",
        "\n",
        "Here we have 3 hidden layers each having a drop out of 20% \n",
        " We added drop out for the purpose of decreasing overfitting\n",
        " We will eliminate all the dropouts for evaluation and get the back while \n",
        "training \n",
        "\n",
        "'''\n",
        "model = nn.Sequential(nn.Linear(784,256),\n",
        "                      nn.ReLU(),\n",
        "                      nn.Dropout(0.2),\n",
        "                      nn.Linear(256,128),\n",
        "                      nn.ReLU(),\n",
        "                      nn.Dropout(0.2),\n",
        "                      nn.Linear(128,64),\n",
        "                      nn.ReLU(),\n",
        "                      nn.Dropout(0.2),\n",
        "                      nn.Linear(64,10),\n",
        "                      nn.LogSoftmax(dim=1))\n",
        "\n",
        "criterion = nn.NLLLoss(reduction='sum')\n",
        "\n",
        "optimizer = optim.Adam(model.parameters(),lr=0.003)\n",
        "\n",
        "epochs = 30\n",
        "\n",
        "train_losses = []\n",
        "test_losses = []\n",
        "\n",
        "for epoch in range(epochs):\n",
        "\n",
        "  total_training_loss = 0.0\n",
        "\n",
        "  for images,labels in trainloader:\n",
        "\n",
        "    images = images.view(images.shape[0],-1)\n",
        "\n",
        "    optimizer.zero_grad()\n",
        "\n",
        "    output = model.forward(images)\n",
        "\n",
        "    loss = criterion(output,labels)\n",
        "\n",
        "    total_training_loss += loss.item()\n",
        "\n",
        "    loss.backward()\n",
        "\n",
        "    optimizer.step()\n",
        "\n",
        "   \n",
        "    \n",
        "  total_test_loss = 0.0\n",
        "  total_correct = 0.0\n",
        "\n",
        "  with torch.no_grad():\n",
        "\n",
        "    # Here we used model.eval() to remove the dropouts for testing our model\n",
        "    \n",
        "    model.eval()\n",
        "    for images,labels in testloader:\n",
        "\n",
        "      images = images.view(images.shape[0],-1)\n",
        "\n",
        "      logps = model(images)\n",
        "      test_loss = criterion(logps,labels)\n",
        "\n",
        "      total_test_loss += test_loss.item()\n",
        "\n",
        "      ps_fashion = torch.exp(logps)\n",
        "\n",
        "      top_p,top_class = ps_fashion.topk(1,dim=1)\n",
        "\n",
        "      equals = top_class == labels.view(*top_class.shape)\n",
        "    \n",
        "      total_correct += equals.sum().item()\n",
        "  \n",
        "  # Here we get the dropouts back to the model by using model.train()\n",
        "  \n",
        "  model.train()\n",
        "  train_loss = total_training_loss / len(trainloader.dataset)\n",
        "  test_loss = total_test_loss / len(testloader.dataset)\n",
        "  accuracy = total_correct / len(testloader.dataset)\n",
        "\n",
        "  train_losses.append(train_loss) \n",
        "  test_losses.append(test_loss)\n",
        "\n",
        "  print('==========================')\n",
        "  print(f'Epoch {epoch}')\n",
        "  print(f'Training loss: {train_loss}')\n",
        "  print(f'Test loss: {test_loss}')\n",
        "  print(f'Test accuracy: {accuracy*100}')\n",
        "  print('==========================')"
      ],
      "metadata": {
        "colab": {
          "base_uri": "https://localhost:8080/"
        },
        "id": "spr4XJkizyhA",
        "outputId": "1383d670-24d5-4935-9754-9defd947365f"
      },
      "execution_count": 26,
      "outputs": [
        {
          "output_type": "stream",
          "name": "stdout",
          "text": [
            "==========================\n",
            "Epoch 0\n",
            "Training loss: 0.6069811887741089\n",
            "Test loss: 0.49761438035964967\n",
            "Test accuracy: 81.91000000000001\n",
            "==========================\n",
            "==========================\n",
            "Epoch 1\n",
            "Training loss: 0.4825502340157827\n",
            "Test loss: 0.4280258972167969\n",
            "Test accuracy: 84.92\n",
            "==========================\n",
            "==========================\n",
            "Epoch 2\n",
            "Training loss: 0.4501264285723368\n",
            "Test loss: 0.4220623287677765\n",
            "Test accuracy: 84.8\n",
            "==========================\n",
            "==========================\n",
            "Epoch 3\n",
            "Training loss: 0.43103395976225534\n",
            "Test loss: 0.42362824950218203\n",
            "Test accuracy: 85.09\n",
            "==========================\n",
            "==========================\n",
            "Epoch 4\n",
            "Training loss: 0.41853837067286176\n",
            "Test loss: 0.40511627292633057\n",
            "Test accuracy: 85.81\n",
            "==========================\n",
            "==========================\n",
            "Epoch 5\n",
            "Training loss: 0.4110726539770762\n",
            "Test loss: 0.38959638419151305\n",
            "Test accuracy: 86.21\n",
            "==========================\n",
            "==========================\n",
            "Epoch 6\n",
            "Training loss: 0.40291477995713554\n",
            "Test loss: 0.377946484041214\n",
            "Test accuracy: 86.50999999999999\n",
            "==========================\n",
            "==========================\n",
            "Epoch 7\n",
            "Training loss: 0.40233449681599937\n",
            "Test loss: 0.39297593989372254\n",
            "Test accuracy: 85.68\n",
            "==========================\n",
            "==========================\n",
            "Epoch 8\n",
            "Training loss: 0.39797556784947713\n",
            "Test loss: 0.3850397620201111\n",
            "Test accuracy: 86.06\n",
            "==========================\n",
            "==========================\n",
            "Epoch 9\n",
            "Training loss: 0.38909111011823017\n",
            "Test loss: 0.38659927418231965\n",
            "Test accuracy: 86.72999999999999\n",
            "==========================\n",
            "==========================\n",
            "Epoch 10\n",
            "Training loss: 0.3867277200539907\n",
            "Test loss: 0.37633272562026976\n",
            "Test accuracy: 87.29\n",
            "==========================\n",
            "==========================\n",
            "Epoch 11\n",
            "Training loss: 0.38025333762168884\n",
            "Test loss: 0.38063295249938967\n",
            "Test accuracy: 87.09\n",
            "==========================\n",
            "==========================\n",
            "Epoch 12\n",
            "Training loss: 0.3789516554514567\n",
            "Test loss: 0.3901952775001526\n",
            "Test accuracy: 86.61\n",
            "==========================\n",
            "==========================\n",
            "Epoch 13\n",
            "Training loss: 0.37504196561972303\n",
            "Test loss: 0.38179001512527466\n",
            "Test accuracy: 86.79\n",
            "==========================\n",
            "==========================\n",
            "Epoch 14\n",
            "Training loss: 0.3669297106663386\n",
            "Test loss: 0.37999982233047486\n",
            "Test accuracy: 87.03\n",
            "==========================\n",
            "==========================\n",
            "Epoch 15\n",
            "Training loss: 0.36433598573207854\n",
            "Test loss: 0.3917933277130127\n",
            "Test accuracy: 86.15\n",
            "==========================\n",
            "==========================\n",
            "Epoch 16\n",
            "Training loss: 0.36612445386250814\n",
            "Test loss: 0.3829483426094055\n",
            "Test accuracy: 86.83999999999999\n",
            "==========================\n",
            "==========================\n",
            "Epoch 17\n",
            "Training loss: 0.36557533179124196\n",
            "Test loss: 0.38245176162719724\n",
            "Test accuracy: 87.45\n",
            "==========================\n",
            "==========================\n",
            "Epoch 18\n",
            "Training loss: 0.364352214884758\n",
            "Test loss: 0.3916970725059509\n",
            "Test accuracy: 86.86\n",
            "==========================\n",
            "==========================\n",
            "Epoch 19\n",
            "Training loss: 0.3670731128136317\n",
            "Test loss: 0.3987360114455223\n",
            "Test accuracy: 86.48\n",
            "==========================\n",
            "==========================\n",
            "Epoch 20\n",
            "Training loss: 0.3575667373816172\n",
            "Test loss: 0.37595637629032136\n",
            "Test accuracy: 87.0\n",
            "==========================\n",
            "==========================\n",
            "Epoch 21\n",
            "Training loss: 0.35411430598100024\n",
            "Test loss: 0.37948103680610656\n",
            "Test accuracy: 87.48\n",
            "==========================\n",
            "==========================\n",
            "Epoch 22\n",
            "Training loss: 0.3508589632511139\n",
            "Test loss: 0.38479875135421754\n",
            "Test accuracy: 86.75\n",
            "==========================\n",
            "==========================\n",
            "Epoch 23\n",
            "Training loss: 0.35145374643007915\n",
            "Test loss: 0.37929495244026185\n",
            "Test accuracy: 86.95\n",
            "==========================\n",
            "==========================\n",
            "Epoch 24\n",
            "Training loss: 0.3522523019711177\n",
            "Test loss: 0.3746956869363785\n",
            "Test accuracy: 87.74\n",
            "==========================\n",
            "==========================\n",
            "Epoch 25\n",
            "Training loss: 0.3535412485122681\n",
            "Test loss: 0.3720868009567261\n",
            "Test accuracy: 87.22\n",
            "==========================\n",
            "==========================\n",
            "Epoch 26\n",
            "Training loss: 0.35165796043078107\n",
            "Test loss: 0.39614115834236147\n",
            "Test accuracy: 86.92\n",
            "==========================\n",
            "==========================\n",
            "Epoch 27\n",
            "Training loss: 0.3442408896764119\n",
            "Test loss: 0.37957577171325685\n",
            "Test accuracy: 87.48\n",
            "==========================\n",
            "==========================\n",
            "Epoch 28\n",
            "Training loss: 0.34338740928173067\n",
            "Test loss: 0.37214519572258\n",
            "Test accuracy: 87.69\n",
            "==========================\n",
            "==========================\n",
            "Epoch 29\n",
            "Training loss: 0.3405271060625712\n",
            "Test loss: 0.3877249622821808\n",
            "Test accuracy: 87.31\n",
            "==========================\n"
          ]
        }
      ]
    },
    {
      "cell_type": "code",
      "source": [
        "# Plot the graph of training and validation loss to see the overfitting effect\n",
        "\n",
        "plt.plot(train_losses,label='Training losses')\n",
        "plt.plot(test_losses,label='Validation losses')\n",
        "plt.legend(frameon=False)\n",
        "plt.show()"
      ],
      "metadata": {
        "colab": {
          "base_uri": "https://localhost:8080/",
          "height": 265
        },
        "id": "DtVvhIxiJSnL",
        "outputId": "9c687148-3127-4ae6-8f89-a0725850bd72"
      },
      "execution_count": 41,
      "outputs": [
        {
          "output_type": "display_data",
          "data": {
            "text/plain": [
              "<Figure size 432x288 with 1 Axes>"
            ],
            "image/png": "[encoded data removed]"
          },
          "metadata": {
            "needs_background": "light"
          }
        }
      ]
    },
    {
      "cell_type": "code",
      "source": [
        "# Testing the fasion classifier model\n",
        "\n",
        "fashion_images,labels = next(iter(testloader))\n",
        "\n",
        "img = fashion_images[0].view(1,-1)\n",
        "\n",
        "with torch.no_grad():\n",
        "  logits = model.forward(img)\n",
        "\n",
        "ps = F.softmax(logits,dim=1)\n",
        "\n",
        "view_classify(img,ps,version='Fashion')"
      ],
      "metadata": {
        "colab": {
          "base_uri": "https://localhost:8080/",
          "height": 234
        },
        "id": "mpQx56Ij1AC1",
        "outputId": "79d7ce3e-b384-4229-9795-787a04f1cc76"
      },
      "execution_count": 42,
      "outputs": [
        {
          "output_type": "display_data",
          "data": {
            "text/plain": [
              "<Figure size 432x648 with 2 Axes>"
            ],
            "image/png": "[encoded data removed]"
          },
          "metadata": {
            "needs_background": "light"
          }
        }
      ]
    }
  ]
}